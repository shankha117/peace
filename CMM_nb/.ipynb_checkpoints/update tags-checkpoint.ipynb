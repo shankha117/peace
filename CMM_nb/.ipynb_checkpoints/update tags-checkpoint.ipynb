{
 "cells": [
  {
   "cell_type": "code",
   "execution_count": 195,
   "metadata": {},
   "outputs": [],
   "source": [
    "import pymongo\n",
    "from datetime import datetime\n",
    "from bson import ObjectId\n",
    "conn = pymongo.MongoClient('localhost',27017)"
   ]
  },
  {
   "cell_type": "code",
   "execution_count": 196,
   "metadata": {},
   "outputs": [],
   "source": [
    "cmm = conn.cmm"
   ]
  },
  {
   "cell_type": "code",
   "execution_count": 197,
   "metadata": {},
   "outputs": [],
   "source": [
    "# conn.drop_database('cmm')"
   ]
  },
  {
   "cell_type": "code",
   "execution_count": 189,
   "metadata": {},
   "outputs": [
    {
     "data": {
      "text/plain": [
       "['instance', 'cluster']"
      ]
     },
     "execution_count": 189,
     "metadata": {},
     "output_type": "execute_result"
    }
   ],
   "source": [
    "cmm.list_collection_names()"
   ]
  },
  {
   "cell_type": "code",
   "execution_count": 190,
   "metadata": {},
   "outputs": [],
   "source": [
    "cluster = cmm.cluster"
   ]
  },
  {
   "cell_type": "code",
   "execution_count": 167,
   "metadata": {},
   "outputs": [],
   "source": [
    "abcd = cluster.find({\"_id\":ObjectId(\"5e3f164262dbd5031baf7437\")})"
   ]
  },
  {
   "cell_type": "code",
   "execution_count": 168,
   "metadata": {},
   "outputs": [],
   "source": [
    "a = list(abcd)"
   ]
  },
  {
   "cell_type": "code",
   "execution_count": 169,
   "metadata": {},
   "outputs": [
    {
     "data": {
      "text/plain": [
       "[{'Key': 'environment', 'Value': 'production'},\n",
       " {'Key': 'storage', 'Value': 'production'},\n",
       " {'key': 'purpose', 'Value': 'project_1'},\n",
       " [{'key': 'purpose', 'Value': 'project_1'}],\n",
       " {'key': 'owner', 'Value': 'teamA'},\n",
       " {'key': 'environment', 'Value': 'dev'},\n",
       " {'key': 'blahh', 'Value': 'dsdasdasev'},\n",
       " {'key': 'bsaslahh', 'Value': 'dsdasdasev'},\n",
       " {'key': 'plah', 'Value': 'adadv'}]"
      ]
     },
     "execution_count": 169,
     "metadata": {},
     "output_type": "execute_result"
    }
   ],
   "source": [
    "a[0]['properties']['Tags']"
   ]
  },
  {
   "cell_type": "code",
   "execution_count": 171,
   "metadata": {},
   "outputs": [],
   "source": [
    "abcd = cluster.update_one(\n",
    "   {\n",
    "     \"_id\":ObjectId(\"5e3f164262dbd5031baf7437\"),\n",
    "     \"properties.Tags\": { \"$elemMatch\": { \"Key\": 'bjsdbjasb'} }\n",
    "                    },\n",
    "   { \"$set\": { \"properties.Tags.$.Value\" : \"prod\" } },\n",
    "    False,True\n",
    ")"
   ]
  },
  {
   "cell_type": "code",
   "execution_count": 172,
   "metadata": {},
   "outputs": [
    {
     "data": {
      "text/plain": [
       "0"
      ]
     },
     "execution_count": 172,
     "metadata": {},
     "output_type": "execute_result"
    }
   ],
   "source": [
    "abcd.modified_count"
   ]
  },
  {
   "cell_type": "code",
   "execution_count": 80,
   "metadata": {},
   "outputs": [
    {
     "data": {
      "text/plain": [
       "0"
      ]
     },
     "execution_count": 80,
     "metadata": {},
     "output_type": "execute_result"
    }
   ],
   "source": []
  },
  {
   "cell_type": "code",
   "execution_count": 165,
   "metadata": {},
   "outputs": [],
   "source": [
    "abcd = cluster.update_one( {\"_id\":ObjectId(\"5e3f164262dbd5031baf7437\"),\n",
    "                    \"properties.Tags.key\" : {\"$nin\" : [\"blaasashh\",\"plah\"] }} , \n",
    "                {\"$addToSet\" : {\"properties.Tags\" :{\"$each\": [{'key' : \"bsaslahh\" , 'Value' : \"dsdasdasev\" },\n",
    "                                                            {'key' : \"plah\" , 'Value' : \"adadv\" }] } } } ,\n",
    "                False , \n",
    "                True);"
   ]
  },
  {
   "cell_type": "code",
   "execution_count": 166,
   "metadata": {},
   "outputs": [
    {
     "data": {
      "text/plain": [
       "1"
      ]
     },
     "execution_count": 166,
     "metadata": {},
     "output_type": "execute_result"
    }
   ],
   "source": [
    "abcd.modified_count"
   ]
  },
  {
   "cell_type": "code",
   "execution_count": 184,
   "metadata": {},
   "outputs": [],
   "source": [
    "abcd = cluster.update_one( {\"_id\":ObjectId(\"5e3fb5a66000027a3ad6b290\")} , \n",
    "                {\"$pull\" : {\"properties.tags\" : {'key' : {\"$in\":[\"environment\",\"owner\"]}}} } ,\n",
    "                False , \n",
    "                True);"
   ]
  },
  {
   "cell_type": "code",
   "execution_count": 185,
   "metadata": {},
   "outputs": [
    {
     "data": {
      "text/plain": [
       "0"
      ]
     },
     "execution_count": 185,
     "metadata": {},
     "output_type": "execute_result"
    }
   ],
   "source": [
    "abcd.modified_count"
   ]
  },
  {
   "cell_type": "code",
   "execution_count": 191,
   "metadata": {},
   "outputs": [],
   "source": [
    "cluster_id = \"5e402252e82f975d6130811e\""
   ]
  },
  {
   "cell_type": "code",
   "execution_count": null,
   "metadata": {},
   "outputs": [],
   "source": []
  }
 ],
 "metadata": {
  "kernelspec": {
   "display_name": "Python 3",
   "language": "python",
   "name": "python3"
  },
  "language_info": {
   "codemirror_mode": {
    "name": "ipython",
    "version": 3
   },
   "file_extension": ".py",
   "mimetype": "text/x-python",
   "name": "python",
   "nbconvert_exporter": "python",
   "pygments_lexer": "ipython3",
   "version": "3.7.3"
  }
 },
 "nbformat": 4,
 "nbformat_minor": 2
}
