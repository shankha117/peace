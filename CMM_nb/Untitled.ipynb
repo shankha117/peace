{
 "cells": [
  {
   "cell_type": "code",
   "execution_count": 1,
   "metadata": {},
   "outputs": [],
   "source": [
    "tags = [\n",
    "            {\n",
    "                \"Key\": \"environment\",\n",
    "                \"Value\": \"production\"\n",
    "            },\n",
    "                        {\n",
    "                \"Key\": \"storage\",\n",
    "                \"Value\": \"persist\"\n",
    "            }\n",
    "        ]"
   ]
  },
  {
   "cell_type": "code",
   "execution_count": 3,
   "metadata": {},
   "outputs": [],
   "source": [
    "all_a = []\n",
    "for i in tags:\n",
    "    all_a.append({\"$elemMatch\":i})"
   ]
  },
  {
   "cell_type": "code",
   "execution_count": 4,
   "metadata": {},
   "outputs": [
    {
     "data": {
      "text/plain": [
       "[{'$elemMatch': {'Key': 'environment', 'Value': 'production'}},\n",
       " {'$elemMatch': {'Key': 'storage', 'Value': 'persist'}}]"
      ]
     },
     "execution_count": 4,
     "metadata": {},
     "output_type": "execute_result"
    }
   ],
   "source": [
    "all_a"
   ]
  },
  {
   "cell_type": "code",
   "execution_count": 27,
   "metadata": {},
   "outputs": [],
   "source": [
    "sort ={\"sort\":\"da\"}"
   ]
  },
  {
   "cell_type": "code",
   "execution_count": 28,
   "metadata": {},
   "outputs": [],
   "source": [
    "a = {\"1\":12}"
   ]
  },
  {
   "cell_type": "code",
   "execution_count": 29,
   "metadata": {},
   "outputs": [],
   "source": [
    "sort.update(a)"
   ]
  },
  {
   "cell_type": "code",
   "execution_count": 32,
   "metadata": {},
   "outputs": [],
   "source": [
    "tags = [{'key' : \"bsaslahh\" , 'Value' : \"dsdasdasev\" },\n",
    "                                                            {'key' : \"plah\" , 'Value' : \"adadv\" }]"
   ]
  },
  {
   "cell_type": "code",
   "execution_count": 34,
   "metadata": {},
   "outputs": [
    {
     "data": {
      "text/plain": [
       "['bsaslahh', 'plah']"
      ]
     },
     "execution_count": 34,
     "metadata": {},
     "output_type": "execute_result"
    }
   ],
   "source": [
    "list(i[\"key\"] for i in tags)"
   ]
  },
  {
   "cell_type": "code",
   "execution_count": 42,
   "metadata": {},
   "outputs": [],
   "source": [
    "\"\"\"\n",
    "Status\n",
    "\"\"\"\n",
    "from enum import Enum\n",
    "\n",
    "\n",
    "class Status(Enum):\n",
    "    \"\"\"\n",
    "    Status for the projects, documents and job\n",
    "    \"\"\"\n",
    "    NEW = 'NEW'\n",
    "    WAITING = 'WAITING'\n",
    "    SCHEDULED = 'SCHEDULED'\n",
    "    RUNNING = {'hii':'hii',\"bb\":'nsajan'}\n",
    "    SUCCESS = 'SUCCESS'\n",
    "    CANCELLED = 'CANCELLED'\n",
    "    FAILED = 'FAILED'\n"
   ]
  },
  {
   "cell_type": "code",
   "execution_count": 63,
   "metadata": {},
   "outputs": [
    {
     "data": {
      "text/plain": [
       "'hii'"
      ]
     },
     "execution_count": 63,
     "metadata": {},
     "output_type": "execute_result"
    }
   ],
   "source": [
    "Status.RUNNING.value['hii']"
   ]
  },
  {
   "cell_type": "code",
   "execution_count": 66,
   "metadata": {},
   "outputs": [],
   "source": [
    "def test(a, *args):\n",
    "    print(args)"
   ]
  },
  {
   "cell_type": "code",
   "execution_count": 68,
   "metadata": {},
   "outputs": [
    {
     "name": "stdout",
     "output_type": "stream",
     "text": [
      "('hii',)\n"
     ]
    }
   ],
   "source": [
    "test(\"10\",'hii')"
   ]
  },
  {
   "cell_type": "code",
   "execution_count": null,
   "metadata": {},
   "outputs": [],
   "source": []
  }
 ],
 "metadata": {
  "kernelspec": {
   "display_name": "Python 3",
   "language": "python",
   "name": "python3"
  },
  "language_info": {
   "codemirror_mode": {
    "name": "ipython",
    "version": 3
   },
   "file_extension": ".py",
   "mimetype": "text/x-python",
   "name": "python",
   "nbconvert_exporter": "python",
   "pygments_lexer": "ipython3",
   "version": "3.7.3"
  }
 },
 "nbformat": 4,
 "nbformat_minor": 2
}
