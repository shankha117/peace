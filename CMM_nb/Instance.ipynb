{
 "cells": [
  {
   "cell_type": "code",
   "execution_count": 2,
   "metadata": {},
   "outputs": [],
   "source": [
    "abcd = {\n",
    "      \"cluster_id\":\"<id>\",\n",
    "      \"region\":\"<cluster_region>\",\n",
    "      \"Type\" : \"AWS::EC2::Instance\",\n",
    "      \"KeyPair\" : { \"name\" : \"KeyName\" ,\"Format\":\"SSH public key file format|OpenSSH public key format\"}\n",
    "      \"Properties\" : {\n",
    "        \"Image\" : { \"os\": \"ubuntu\",\n",
    "                    \"virtualization\":\"\",\n",
    "                    \"Architecture\":\"32|64\",\n",
    "                   \"Storage\" : \"EBS | ISB\",\n",
    "                    }, <required>\n",
    "        \n",
    "       , <required>\n",
    "<required>        \"InstanceType\" : \"a1.medium | a1.large | a1.xlarge | a1.2xlarge | a1.4xlarge | a1.metal | m4.large | m4.xlarge | m4.2xlarge | m4.4xlarge | m4.10xlarge | m4.16xlarge | m5.large | m5.xlarge | m5.2xlarge | m5.4xlarge | m5.8xlarge | m5.12xlarge |\",\n",
    "        \"SecurityGroups\" : [{ \"name\" : \"Default\" }| {\"name\":\"<custom_name>\",\"VPC\":\"<VPC_ID>\"}],  \n",
    "        \n",
    "        \"tags\":[]\n",
    "}}\n",
    "    "
   ]
  },
  {
   "cell_type": "code",
   "execution_count": 3,
   "metadata": {},
   "outputs": [
    {
     "data": {
      "text/plain": [
       "'183.233.122.32'"
      ]
     },
     "execution_count": 3,
     "metadata": {},
     "output_type": "execute_result"
    }
   ],
   "source": [
    "import random\n",
    "import socket\n",
    "import struct\n",
    "socket.inet_ntoa(struct.pack('>I', random.randint(1, 0xffffffff)))"
   ]
  },
  {
   "cell_type": "code",
   "execution_count": null,
   "metadata": {},
   "outputs": [],
   "source": [
    "return_dic = {\n",
    "      \"_id\": \"<machine_id>\",\n",
    "      \"cluster_id\":\"<id>\",\n",
    "      \"region\":\"<cluster_region>\",\n",
    "      \"Type\" : \"AWS::EC2::Instance\",\n",
    "      \"Properties\" : {\n",
    "        \"Image\" : { \"Fn::FindInMap\" : [ \"AWSRegionArch2AMI\", { \"Ref\" : \"AWS::Region\" }, \"PV64\" ]},\n",
    "        \"KeyPair\" : { \"name\" : \"KeyName\" ,\"Format\":\"SSH public key file format|OpenSSH public key format\"}, \n",
    "        \"InstanceType\" : \"a1.medium | a1.large | a1.xlarge | a1.2xlarge | a1.4xlarge | a1.metal | m4.large | m4.xlarge | m4.2xlarge | m4.4xlarge | m4.10xlarge | m4.16xlarge | m5.large | m5.xlarge | m5.2xlarge | m5.4xlarge | m5.8xlarge | m5.12xlarge |\",\n",
    "        \"SecurityGroups\" : [{ \"name\" : \"Default\" }| {\"name\":\"<custom_name>\",\"VPC\":\"<VPC_ID>\"}],\n",
    "        \"Storage\" : \"EBS | ISB\",\n",
    "        \"IP\": \"<returned_ip_address>\",\n",
    "        \"Tags\":[]\n",
    "\n",
    "}}\n",
    "    "
   ]
  }
 ],
 "metadata": {
  "kernelspec": {
   "display_name": "Python 3",
   "language": "python",
   "name": "python3"
  },
  "language_info": {
   "codemirror_mode": {
    "name": "ipython",
    "version": 3
   },
   "file_extension": ".py",
   "mimetype": "text/x-python",
   "name": "python",
   "nbconvert_exporter": "python",
   "pygments_lexer": "ipython3",
   "version": "3.7.3"
  }
 },
 "nbformat": 4,
 "nbformat_minor": 2
}
