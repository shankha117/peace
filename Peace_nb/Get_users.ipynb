{
 "cells": [
  {
   "cell_type": "code",
   "execution_count": 1,
   "metadata": {},
   "outputs": [],
   "source": [
    "import pymongo\n",
    "from bson.objectid import ObjectId\n",
    "from bson.errors import InvalidId"
   ]
  },
  {
   "cell_type": "code",
   "execution_count": 132,
   "metadata": {},
   "outputs": [],
   "source": [
    "conn.drop_database(\"peace_db\")"
   ]
  },
  {
   "cell_type": "code",
   "execution_count": 54,
   "metadata": {},
   "outputs": [],
   "source": [
    "conn = pymongo.MongoClient('localhost',27017)"
   ]
  },
  {
   "cell_type": "code",
   "execution_count": 55,
   "metadata": {},
   "outputs": [
    {
     "data": {
      "text/plain": [
       "['admin', 'cmm', 'config', 'local']"
      ]
     },
     "execution_count": 55,
     "metadata": {},
     "output_type": "execute_result"
    }
   ],
   "source": [
    "conn.list_database_names()"
   ]
  },
  {
   "cell_type": "code",
   "execution_count": 59,
   "metadata": {},
   "outputs": [],
   "source": [
    "db = conn['peace_db']"
   ]
  },
  {
   "cell_type": "code",
   "execution_count": 60,
   "metadata": {},
   "outputs": [
    {
     "data": {
      "text/plain": [
       "['peace_users']"
      ]
     },
     "execution_count": 60,
     "metadata": {},
     "output_type": "execute_result"
    }
   ],
   "source": [
    "db.list_collection_names()"
   ]
  },
  {
   "cell_type": "code",
   "execution_count": 129,
   "metadata": {},
   "outputs": [],
   "source": [
    "col = db['peace_users']"
   ]
  },
  {
   "cell_type": "code",
   "execution_count": 131,
   "metadata": {},
   "outputs": [
    {
     "data": {
      "text/plain": [
       "{'_id': ObjectId('5e581e49b50903934389ee3d'),\n",
       " 'id': 1,\n",
       " 'first_name': 'James',\n",
       " 'last_name': 'Butt',\n",
       " 'company_name': 'Benton, John B Jr',\n",
       " 'city': 'New Orleans',\n",
       " 'state': 'LA',\n",
       " 'zip': 70116,\n",
       " 'email': 'jbutt@gmail.com',\n",
       " 'web': 'http://www.bentonjohnbjr.com',\n",
       " 'age': 70}"
      ]
     },
     "execution_count": 131,
     "metadata": {},
     "output_type": "execute_result"
    }
   ],
   "source": [
    "col.find_one()"
   ]
  },
  {
   "cell_type": "code",
   "execution_count": 84,
   "metadata": {},
   "outputs": [],
   "source": [
    "import re\n",
    "regx = re.compile(\"^shuvro\", re.IGNORECASE)"
   ]
  },
  {
   "cell_type": "code",
   "execution_count": 85,
   "metadata": {},
   "outputs": [],
   "source": [
    "# abcd = col.find({'first_name':{ \"$regex\": regx}})"
   ]
  },
  {
   "cell_type": "code",
   "execution_count": 86,
   "metadata": {},
   "outputs": [],
   "source": [
    "# abcd = col.find({\"$or\":[\n",
    "#         {\"first_name\":{ \"$regex\": regx}},\n",
    "#         {\"last_name\":{ \"$regex\": regx}}\n",
    "#     ]})"
   ]
  },
  {
   "cell_type": "code",
   "execution_count": 112,
   "metadata": {},
   "outputs": [],
   "source": [
    "import re\n",
    "regx = re.compile(\"^james\", re.IGNORECASE)"
   ]
  },
  {
   "cell_type": "code",
   "execution_count": 120,
   "metadata": {},
   "outputs": [],
   "source": [
    "pipeline = []\n",
    "pipeline = [\n",
    "            {\n",
    "                \"$match\": {\"$or\":[\n",
    "        {\"first_name\":{ \"$regex\": regx}},\n",
    "        {\"last_name\":{ \"$regex\": regx}}\n",
    "    ]}\n",
    "            },\n",
    "{\"$project\": {\"_id\":0}}]"
   ]
  },
  {
   "cell_type": "code",
   "execution_count": 121,
   "metadata": {},
   "outputs": [
    {
     "name": "stdout",
     "output_type": "stream",
     "text": [
      "{'id': 1, 'first_name': 'James', 'last_name': 'Butt', 'company_name': 'Benton, John B Jr', 'city': 'New Orleans', 'state': 'LA', 'zip': 70116, 'email': 'jbutt@gmail.com', 'web': 'http://www.bentonjohnbjr.com', 'age': 70}\n"
     ]
    }
   ],
   "source": [
    "movie = db.peace_users.aggregate(pipeline).next()\n",
    "print(movie)"
   ]
  },
  {
   "cell_type": "code",
   "execution_count": 87,
   "metadata": {},
   "outputs": [
    {
     "data": {
      "text/plain": [
       "[{'_id': ObjectId('5e57f1839ee5e46cdff61b88'),\n",
       "  'id': 2,\n",
       "  'first_name': 'shankha',\n",
       "  'last_name': 'SHUVRO',\n",
       "  'company_name': 'Benton, John B Jr',\n",
       "  'city': 'New Orleans',\n",
       "  'state': 'LA',\n",
       "  'zip': 70116,\n",
       "  'email': 'jbutt@gmail.com',\n",
       "  'web': 'http://www.bentonjohnbjr.com',\n",
       "  'age': 70}]"
      ]
     },
     "execution_count": 87,
     "metadata": {},
     "output_type": "execute_result"
    }
   ],
   "source": [
    "list(abcd)"
   ]
  },
  {
   "cell_type": "code",
   "execution_count": 21,
   "metadata": {},
   "outputs": [],
   "source": [
    "def search_one(id):\n",
    "    try:\n",
    "        pipeline = [\n",
    "                    {\n",
    "                        \"$match\": {\n",
    "                            \"id\": id\n",
    "                        }\n",
    "                    },\n",
    "        {\"$project\": {\"_id\":0}}]\n",
    "        movie = db.peace_users.aggregate(pipeline).next()\n",
    "        print(movie)\n",
    "    except (StopIteration) as _:\n",
    "        return None\n",
    "    except InvalidId as e:\n",
    "        raise Exception(str(e))"
   ]
  },
  {
   "cell_type": "code",
   "execution_count": 24,
   "metadata": {},
   "outputs": [],
   "source": [
    "search_one({'first_name':'James'})"
   ]
  },
  {
   "cell_type": "code",
   "execution_count": 96,
   "metadata": {},
   "outputs": [],
   "source": [
    "s = '-age'"
   ]
  },
  {
   "cell_type": "code",
   "execution_count": 97,
   "metadata": {},
   "outputs": [
    {
     "data": {
      "text/plain": [
       "'age'"
      ]
     },
     "execution_count": 97,
     "metadata": {},
     "output_type": "execute_result"
    }
   ],
   "source": [
    "s[1:]"
   ]
  },
  {
   "cell_type": "code",
   "execution_count": 95,
   "metadata": {},
   "outputs": [],
   "source": [
    "if s[0] == '-':\n",
    "    print(\"yes\")"
   ]
  },
  {
   "cell_type": "code",
   "execution_count": 89,
   "metadata": {},
   "outputs": [],
   "source": [
    "import re"
   ]
  },
  {
   "cell_type": "code",
   "execution_count": 92,
   "metadata": {},
   "outputs": [
    {
     "data": {
      "text/plain": [
       "<re.Match object; span=(0, 1), match='-'>"
      ]
     },
     "execution_count": 92,
     "metadata": {},
     "output_type": "execute_result"
    }
   ],
   "source": [
    "re.search('-',s)"
   ]
  },
  {
   "cell_type": "code",
   "execution_count": null,
   "metadata": {},
   "outputs": [],
   "source": []
  }
 ],
 "metadata": {
  "kernelspec": {
   "display_name": "Python 3",
   "language": "python",
   "name": "python3"
  },
  "language_info": {
   "codemirror_mode": {
    "name": "ipython",
    "version": 3
   },
   "file_extension": ".py",
   "mimetype": "text/x-python",
   "name": "python",
   "nbconvert_exporter": "python",
   "pygments_lexer": "ipython3",
   "version": "3.7.3"
  }
 },
 "nbformat": 4,
 "nbformat_minor": 2
}
